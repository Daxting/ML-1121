{
 "cells": [
  {
   "cell_type": "code",
   "execution_count": 2,
   "metadata": {},
   "outputs": [],
   "source": [
    "from lightgbm import LGBMClassifier\n",
    "from sklearn.model_selection import train_test_split\n",
    "import pandas as pd\n",
    "import numpy as np\n",
    "import matplotlib.pyplot as plt\n",
    "import seaborn as sns\n",
    "\n",
    "df=pd.read_csv(\"./dataset/diabetes_012_health_indicators_BRFSS2021.csv\")"
   ]
  },
  {
   "cell_type": "code",
   "execution_count": 4,
   "metadata": {},
   "outputs": [
    {
     "name": "stdout",
     "output_type": "stream",
     "text": [
      "Index(['HighBP', 'HighChol', 'CholCheck', 'BMI', 'Smoker', 'Stroke',\n",
      "       'HeartDiseaseorAttack', 'PhysActivity', 'Fruits', 'Veggies',\n",
      "       'HvyAlcoholConsump', 'AnyHealthcare', 'NoDocbcCost', 'GenHlth',\n",
      "       'MentHlth', 'PhysHlth', 'DiffWalk', 'Sex', 'Age', 'Education'],\n",
      "      dtype='object')\n"
     ]
    }
   ],
   "source": [
    "from sklearn.model_selection import train_test_split\n",
    "from sklearn.metrics import accuracy_score,recall_score,precision_score,f1_score\n",
    "#基本輸入參數\n",
    "Data = df\n",
    "Outcome = ['Diabetes_012']\n",
    "size = 0.3\n",
    "rs = 6\n",
    "class_weigts={0:1,1:1,2:6}\n",
    "model_LGBM = LGBMClassifier(objective='multiclass',num_class=3,class_weight=class_weigts)\n",
    "predictors_var = predictor_var=df.columns\n",
    "predictor_var1 = predictor_var[predictor_var!='Diabetes_012']\n",
    "predictor_var2 = predictor_var1[predictor_var1!='Income']"
   ]
  },
  {
   "cell_type": "code",
   "execution_count": 6,
   "metadata": {},
   "outputs": [
    {
     "name": "stderr",
     "output_type": "stream",
     "text": [
      "c:\\Users\\timta\\AppData\\Local\\Programs\\Python\\Python39\\lib\\site-packages\\sklearn\\preprocessing\\_label.py:97: DataConversionWarning: A column-vector y was passed when a 1d array was expected. Please change the shape of y to (n_samples, ), for example using ravel().\n",
      "  y = column_or_1d(y, warn=True)\n",
      "c:\\Users\\timta\\AppData\\Local\\Programs\\Python\\Python39\\lib\\site-packages\\sklearn\\preprocessing\\_label.py:132: DataConversionWarning: A column-vector y was passed when a 1d array was expected. Please change the shape of y to (n_samples, ), for example using ravel().\n",
      "  y = column_or_1d(y, dtype=self.classes_.dtype, warn=True)\n"
     ]
    },
    {
     "name": "stdout",
     "output_type": "stream",
     "text": [
      "[LightGBM] [Info] Auto-choosing row-wise multi-threading, the overhead of testing was 0.009575 seconds.\n",
      "You can set `force_row_wise=true` to remove the overhead.\n",
      "And if memory is not enough, you can set `force_col_wise=true`.\n",
      "[LightGBM] [Info] Total Bins 195\n",
      "[LightGBM] [Info] Number of data points in the train set: 165464, number of used features: 20\n",
      "[LightGBM] [Info] Start training from score -0.715995\n",
      "[LightGBM] [Info] Start training from score -4.280069\n",
      "[LightGBM] [Info] Start training from score -0.698255\n"
     ]
    },
    {
     "data": {
      "text/plain": [
       "['diabetes_model_ForAllFeature(012)LBGM.pkl']"
      ]
     },
     "execution_count": 6,
     "metadata": {},
     "output_type": "execute_result"
    }
   ],
   "source": [
    "X=Data[predictor_var2]\n",
    "y=Data[Outcome]\n",
    "X_train,X_test,y_train,y_test=train_test_split(X,y,test_size=size,random_state=rs)\n",
    "model_LGBM.fit(X_train,y_train)\n",
    "predictions=model_LGBM.predict(X_test)\n",
    "accuracy=accuracy_score(y_test,predictions)\n",
    "recall=recall_score(y_test,predictions,labels=[2],average=None)\n",
    "precision=precision_score(y_test,predictions,labels=[2],average=None)\n",
    "f1_score=f1_score(y_test,predictions,labels=[2],average=None)\n",
    "\n",
    "import joblib\n",
    "joblib.dump(model_LGBM,'diabetes_model_ForAllFeature(012)LBGM.pkl',compress=3)"
   ]
  },
  {
   "cell_type": "code",
   "execution_count": 7,
   "metadata": {},
   "outputs": [
    {
     "name": "stdout",
     "output_type": "stream",
     "text": [
      "accuracy: 0.7020334489663536\n",
      "recall: [0.79627072]\n",
      "precision: [0.30463501]\n",
      "f1_score: [0.44067704]\n"
     ]
    }
   ],
   "source": [
    "print('accuracy:',accuracy)\n",
    "print('recall:',recall)\n",
    "print('precision:',precision)\n",
    "print('f1_score:',f1_score)"
   ]
  }
 ],
 "metadata": {
  "kernelspec": {
   "display_name": "Python 3",
   "language": "python",
   "name": "python3"
  },
  "language_info": {
   "codemirror_mode": {
    "name": "ipython",
    "version": 3
   },
   "file_extension": ".py",
   "mimetype": "text/x-python",
   "name": "python",
   "nbconvert_exporter": "python",
   "pygments_lexer": "ipython3",
   "version": "3.9.13"
  }
 },
 "nbformat": 4,
 "nbformat_minor": 2
}
