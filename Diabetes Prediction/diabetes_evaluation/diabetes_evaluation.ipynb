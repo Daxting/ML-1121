{
 "cells": [
  {
   "cell_type": "code",
   "execution_count": 2,
   "metadata": {},
   "outputs": [
    {
     "data": {
      "text/plain": [
       "Diabetes_012            0\n",
       "HighBP                  0\n",
       "HighChol                0\n",
       "CholCheck               0\n",
       "BMI                     0\n",
       "Smoker                  0\n",
       "Stroke                  0\n",
       "HeartDiseaseorAttack    0\n",
       "PhysActivity            0\n",
       "Fruits                  0\n",
       "Veggies                 0\n",
       "HvyAlcoholConsump       0\n",
       "AnyHealthcare           0\n",
       "NoDocbcCost             0\n",
       "GenHlth                 0\n",
       "MentHlth                0\n",
       "PhysHlth                0\n",
       "DiffWalk                0\n",
       "Sex                     0\n",
       "Age                     0\n",
       "Education               0\n",
       "Income                  0\n",
       "dtype: int64"
      ]
     },
     "execution_count": 2,
     "metadata": {},
     "output_type": "execute_result"
    }
   ],
   "source": [
    "#匯入數據集\n",
    "import pandas as pd\n",
    "import numpy as np\n",
    "import matplotlib.pyplot as plt\n",
    "import seaborn as sns\n",
    "\n",
    "df=pd.read_csv(\"./dataset/diabetes_012_health_indicators_BRFSS2021.csv\")\n",
    "#確認此數據集有無缺失值\n",
    "df.isnull().sum()"
   ]
  },
  {
   "cell_type": "code",
   "execution_count": 3,
   "metadata": {},
   "outputs": [],
   "source": [
    "def get_high_correlation_features(data, target, threshold=0.5):\n",
    "    # 合併特徵和目標\n",
    "    df = pd.concat([data, target], axis=1)\n",
    "    # 計算相關係數\n",
    "    correlations = df.corr()[target.name]\n",
    "    # 選擇相關係數在閾值以上的特徵\n",
    "    high_corr_features = correlations[abs(correlations) > threshold].index.tolist()\n",
    "    return high_corr_features"
   ]
  },
  {
   "cell_type": "code",
   "execution_count": 4,
   "metadata": {},
   "outputs": [],
   "source": [
    "#模型預測函數建構(使用單一模型)\n",
    "from sklearn.model_selection import train_test_split\n",
    "from sklearn.metrics import accuracy_score,recall_score,precision_score\n",
    "def diabates_model(model,data,cor_limit,outcome,t_size,rs_number):\n",
    "  high_corr_features = get_high_correlation_features(df.drop(columns=['Diabetes_012']), df['Diabetes_012'], threshold=cor_limit)\n",
    "  high_corr_features = [feature for feature in high_corr_features if feature != 'Diabetes_012']\n",
    "  X=data[high_corr_features]\n",
    "  y=data[outcome]\n",
    "  X_train,X_test,y_train,y_test=train_test_split(X,y,test_size=t_size,random_state=rs_number)\n",
    "  model.fit(X_train,y_train)\n",
    "  predictions=model.predict(X_test)\n",
    "  accuracy=accuracy_score(y_test,predictions)\n",
    "  recall=recall_score(y_test,predictions,average='micro')\n",
    "  precision=precision_score(y_test,predictions,average='micro')\n",
    "  return accuracy, recall, precision"
   ]
  },
  {
   "cell_type": "code",
   "execution_count": 5,
   "metadata": {},
   "outputs": [],
   "source": [
    "#模型預測函數建構(使用單一模型)\n",
    "from sklearn.model_selection import train_test_split\n",
    "from sklearn.metrics import accuracy_score,recall_score,precision_score\n",
    "def diabates_model_no_income(model,data,cor_limit,outcome,t_size,rs_number):\n",
    "  high_corr_features = get_high_correlation_features(df.drop(columns=['Diabetes_012']), df['Diabetes_012'], threshold=cor_limit)\n",
    "  high_corr_features = [feature for feature in high_corr_features if feature != 'Diabetes_012']\n",
    "  high_corr_features = [feature for feature in high_corr_features if feature != 'Income']\n",
    "  X=data[high_corr_features]\n",
    "  y=data[outcome]\n",
    "  X_train,X_test,y_train,y_test=train_test_split(X,y,test_size=t_size,random_state=rs_number)\n",
    "  model.fit(X_train,y_train)\n",
    "  predictions=model.predict(X_test)\n",
    "  accuracy=accuracy_score(y_test,predictions)\n",
    "  recall=recall_score(y_test,predictions,average='micro')\n",
    "  precision=precision_score(y_test,predictions,average='micro')\n",
    "  return accuracy, recall, precision"
   ]
  },
  {
   "cell_type": "code",
   "execution_count": 6,
   "metadata": {},
   "outputs": [],
   "source": [
    "import warnings\n",
    "#ignore all the warnings from scikit-learn\n",
    "warnings.filterwarnings(\"ignore\")"
   ]
  },
  {
   "cell_type": "code",
   "execution_count": 7,
   "metadata": {},
   "outputs": [],
   "source": [
    "#各模型運算參數放置區\n",
    "from sklearn.ensemble import RandomForestClassifier,GradientBoostingClassifier\n",
    "from sklearn.linear_model import LogisticRegression\n",
    "from sklearn.svm import SVC\n",
    "from sklearn.tree import DecisionTreeClassifier\n",
    "from sklearn.neighbors import KNeighborsClassifier\n",
    "from sklearn.neural_network import MLPClassifier\n",
    "\n",
    "#基本輸入參數\n",
    "Data = df\n",
    "Outcome = ['Diabetes_012']\n",
    "size = 0.3\n",
    "rs = 6\n",
    "\n",
    "#模型類參數\n",
    "model_lr = LogisticRegression()\n",
    "model_rf = RandomForestClassifier()\n",
    "model_dt = DecisionTreeClassifier()\n",
    "model_svc = SVC(kernel='rbf', C=1)\n",
    "model_knn = KNeighborsClassifier()\n",
    "model_gb = GradientBoostingClassifier()\n",
    "model_mlpc = MLPClassifier()\n"
   ]
  },
  {
   "cell_type": "code",
   "execution_count": 7,
   "metadata": {},
   "outputs": [
    {
     "name": "stdout",
     "output_type": "stream",
     "text": [
      "corr=0.1\n",
      "['HighBP', 'HighChol', 'BMI', 'Stroke', 'HeartDiseaseorAttack', 'PhysActivity', 'GenHlth', 'PhysHlth', 'DiffWalk', 'Age', 'Education', 'Income']\n",
      "Accuracy:0.8399187748540485\n",
      "Recall:0.8399187748540485\n",
      "Precision:0.8399187748540485\n",
      "------------------\n",
      "corr=0.2\n",
      "['HighBP', 'HighChol', 'BMI', 'GenHlth', 'DiffWalk']\n",
      "Accuracy:0.8375638096849706\n",
      "Recall:0.8375638096849706\n",
      "Precision:0.8375638096849706\n",
      "------------------\n",
      "corr=0.30000000000000004\n",
      "[]\n",
      "------------------\n",
      "corr=0.4\n",
      "[]\n",
      "------------------\n"
     ]
    }
   ],
   "source": [
    "#邏輯回歸\n",
    "for corr in np.arange(0.1, 0.5, 0.1):\n",
    "    print(f\"corr={corr}\")\n",
    "    high_corr_features = get_high_correlation_features(df.drop(columns=['Diabetes_012']), df['Diabetes_012'], threshold=corr)\n",
    "    high_corr_features = [feature for feature in high_corr_features if feature != 'Diabetes_012']\n",
    "    print(high_corr_features)\n",
    "    if not high_corr_features:\n",
    "        print(\"------------------\")\n",
    "        continue\n",
    "    a, r, p =diabates_model(model=model_gb,data=df,cor_limit=corr,outcome=Outcome,t_size=size,rs_number=rs)\n",
    "    print(f\"Accuracy:{a}\")\n",
    "    print(f\"Recall:{r}\")\n",
    "    print(f\"Precision:{p}\")\n",
    "    print(\"------------------\")"
   ]
  },
  {
   "cell_type": "code",
   "execution_count": 8,
   "metadata": {},
   "outputs": [
    {
     "name": "stdout",
     "output_type": "stream",
     "text": [
      "corr=0.0\n",
      "['HighBP', 'HighChol', 'CholCheck', 'BMI', 'Smoker', 'Stroke', 'HeartDiseaseorAttack', 'PhysActivity', 'Fruits', 'Veggies', 'HvyAlcoholConsump', 'AnyHealthcare', 'NoDocbcCost', 'GenHlth', 'MentHlth', 'PhysHlth', 'DiffWalk', 'Sex', 'Age', 'Education', 'Income']\n",
      "Accuracy:0.8397213526243055\n",
      "Recall:0.8397213526243055\n",
      "Precision:0.8397213526243055\n",
      "------------------\n",
      "corr=0.1\n",
      "['HighBP', 'HighChol', 'BMI', 'Stroke', 'HeartDiseaseorAttack', 'PhysActivity', 'GenHlth', 'PhysHlth', 'DiffWalk', 'Age', 'Education', 'Income']\n",
      "Accuracy:0.8395662351580788\n",
      "Recall:0.8395662351580788\n",
      "Precision:0.8395662351580788\n",
      "------------------\n",
      "corr=0.2\n",
      "['HighBP', 'HighChol', 'BMI', 'GenHlth', 'DiffWalk']\n",
      "Accuracy:0.8375638096849706\n",
      "Recall:0.8375638096849706\n",
      "Precision:0.8375638096849706\n",
      "------------------\n",
      "corr=0.30000000000000004\n",
      "[]\n",
      "------------------\n",
      "corr=0.4\n",
      "[]\n",
      "------------------\n"
     ]
    }
   ],
   "source": [
    "#邏輯回歸\n",
    "for corr in np.arange(0, 0.5, 0.1):\n",
    "    print(f\"corr={corr}\")\n",
    "    high_corr_features = get_high_correlation_features(df.drop(columns=['Diabetes_012']), df['Diabetes_012'], threshold=corr)\n",
    "    high_corr_features = [feature for feature in high_corr_features if feature != 'Diabetes_012']\n",
    "    print(high_corr_features)\n",
    "    if not high_corr_features:\n",
    "        print(\"------------------\")\n",
    "        continue\n",
    "    a, r, p =diabates_model_no_income(model=model_gb,data=df,cor_limit=corr,outcome=Outcome,t_size=size,rs_number=rs)\n",
    "    print(f\"Accuracy:{a}\")\n",
    "    print(f\"Recall:{r}\")\n",
    "    print(f\"Precision:{p}\")\n",
    "    print(\"------------------\")"
   ]
  },
  {
   "cell_type": "code",
   "execution_count": 8,
   "metadata": {},
   "outputs": [
    {
     "name": "stdout",
     "output_type": "stream",
     "text": [
      "Accuracy:0.8375638096849706\n",
      "Recall:0.8375638096849706\n",
      "Precision:0.8375638096849706\n"
     ]
    },
    {
     "data": {
      "text/plain": [
       "['diabetes_model_simple.pkl']"
      ]
     },
     "execution_count": 8,
     "metadata": {},
     "output_type": "execute_result"
    }
   ],
   "source": [
    "model=model_gb\n",
    "cor_limit=0.2\n",
    "\n",
    "high_corr_features = get_high_correlation_features(df.drop(columns=['Diabetes_012']), df['Diabetes_012'], threshold=cor_limit)\n",
    "high_corr_features = [feature for feature in high_corr_features if feature != 'Diabetes_012']\n",
    "X=df[high_corr_features]\n",
    "y=df[Outcome]\n",
    "X_train,X_test,y_train,y_test=train_test_split(X,y,test_size=size,random_state=rs)\n",
    "model.fit(X_train,y_train)\n",
    "predictions=model.predict(X_test)\n",
    "accuracy=accuracy_score(y_test,predictions)\n",
    "recall=recall_score(y_test,predictions,average='micro')\n",
    "precision=precision_score(y_test,predictions,average='micro')\n",
    "print(f\"Accuracy:{accuracy}\")\n",
    "print(f\"Recall:{recall}\")\n",
    "print(f\"Precision:{precision}\")\n",
    "import joblib\n",
    "joblib.dump(model,'diabetes_model_simple.pkl',compress=3)"
   ]
  },
  {
   "cell_type": "code",
   "execution_count": 9,
   "metadata": {},
   "outputs": [
    {
     "name": "stdout",
     "output_type": "stream",
     "text": [
      "Accuracy:0.8397213526243055\n",
      "Recall:0.8397213526243055\n",
      "Precision:0.8397213526243055\n"
     ]
    },
    {
     "data": {
      "text/plain": [
       "['diabetes_model_complex.pkl']"
      ]
     },
     "execution_count": 9,
     "metadata": {},
     "output_type": "execute_result"
    }
   ],
   "source": [
    "model=model_gb\n",
    "cor_limit=0\n",
    "\n",
    "high_corr_features = get_high_correlation_features(df.drop(columns=['Diabetes_012']), df['Diabetes_012'], threshold=cor_limit)\n",
    "high_corr_features = [feature for feature in high_corr_features if feature != 'Diabetes_012']\n",
    "high_corr_features = [feature for feature in high_corr_features if feature != 'Income']\n",
    "X=df[high_corr_features]\n",
    "y=df[Outcome]\n",
    "X_train,X_test,y_train,y_test=train_test_split(X,y,test_size=size,random_state=rs)\n",
    "model.fit(X_train,y_train)\n",
    "predictions=model.predict(X_test)\n",
    "accuracy=accuracy_score(y_test,predictions)\n",
    "recall=recall_score(y_test,predictions,average='micro')\n",
    "precision=precision_score(y_test,predictions,average='micro')\n",
    "print(f\"Accuracy:{accuracy}\")\n",
    "print(f\"Recall:{recall}\")\n",
    "print(f\"Precision:{precision}\")\n",
    "import joblib\n",
    "joblib.dump(model,'diabetes_model_complex.pkl',compress=3)"
   ]
  }
 ],
 "metadata": {
  "kernelspec": {
   "display_name": "Python 3",
   "language": "python",
   "name": "python3"
  },
  "language_info": {
   "codemirror_mode": {
    "name": "ipython",
    "version": 3
   },
   "file_extension": ".py",
   "mimetype": "text/x-python",
   "name": "python",
   "nbconvert_exporter": "python",
   "pygments_lexer": "ipython3",
   "version": "3.9.13"
  }
 },
 "nbformat": 4,
 "nbformat_minor": 2
}
